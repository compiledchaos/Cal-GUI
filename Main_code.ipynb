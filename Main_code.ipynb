{
 "cells": [
  {
   "cell_type": "code",
   "execution_count": null,
   "id": "65397048",
   "metadata": {},
   "outputs": [],
   "source": [
    "import tkinter as tk\n",
    "from tkinter import ttk\n",
    "from tkinter import *\n",
    "\n",
    "root = tk.Tk()\n",
    "f = ttk.Frame(root)\n",
    "f.grid(column=0, row=0, sticky=(W, N ,E, S))\n",
    "q = StringVar()\n",
    "def append(s):\n",
    "   current = q.get()\n",
    "   q.set(current + s)\n",
    "def backspace():\n",
    "   current = q.get()\n",
    "   q.set(current[:-1])\n",
    "def equal():\n",
    "   current = q.get()\n",
    "   signs = \"*/-+\"\n",
    "   l = []\n",
    "   i = ''\n",
    "   for x in current:\n",
    "      if any(x == s for s in signs):\n",
    "         l.append(i)\n",
    "         l.append(x)\n",
    "         i = ''\n",
    "      i += x\n",
    "def clear():\n",
    "   q.set('0')\n",
    "   \n",
    "imagedel = PhotoImage(file=\"C:/Users/HP/Downloads/icons8-delete-key-50.png\")\n",
    "imagedel = imagedel.subsample(2,2)\n",
    "\n",
    "label = ttk.Label(text='Calculator').grid(column=1,row=0,columnspan=2)\n",
    "entry = ttk.Label(textvariable=q).grid(column=1,row=1, columnspan=2)\n",
    "b1 = ttk.Button(text='1',command=lambda: append('1')).grid(column=0,row=3)\n",
    "b1 = ttk.Button(text='2',command=lambda: append('2')).grid(column=1,row=3)\n",
    "b1 = ttk.Button(text='3',command=lambda: append('3')).grid(column=2,row=3)\n",
    "b4 = ttk.Button(text='4',command=lambda: append('4')).grid(column=0,row=4)\n",
    "b5 = ttk.Button(text='5',command=lambda: append('5')).grid(column=1,row=4)\n",
    "b6 = ttk.Button(text='6',command=lambda: append('6')).grid(column=2,row=4)\n",
    "b7 = ttk.Button(text='7',command=lambda: append('7')).grid(column=0,row=5)\n",
    "b8 = ttk.Button(text='8',command=lambda: append('8')).grid(column=1,row=5)\n",
    "b9 = ttk.Button(text='9',command=lambda: append('9')).grid(column=2,row=5)\n",
    "b0 = ttk.Button(text='0',command=lambda: append('0')).grid(column=1,row=6)\n",
    "bplus = ttk.Button(text='+',command=lambda: append('+')).grid(column=3,row=3)\n",
    "bsub = ttk.Button(text='-',command=lambda: append('-')).grid(column=3,row=4)\n",
    "bmulti = ttk.Button(text='*',command=lambda: append('*')).grid(column=3,row=5)\n",
    "bdivi = ttk.Button(text='/',command=lambda: append('/')).grid(column=3,row=6)\n",
    "beq = ttk.Button(text='=',command= equal).grid(column=2,row=6)\n",
    "bback = ttk.Button(image=imagedel,command= backspace).grid(column=0,row=6)\n",
    "bclear = ttk.Button(text=\"Clear\", command=clear).grid(column=0, row=7, columnspan=4)\n",
    "\n",
    "\n",
    "tk.mainloop()\n"
   ]
  },
  {
   "cell_type": "code",
   "execution_count": 166,
   "id": "8af96f4c",
   "metadata": {},
   "outputs": [
    {
     "name": "stdout",
     "output_type": "stream",
     "text": [
      "1\n",
      "1\n",
      "1\n",
      "1\n",
      "1\n"
     ]
    }
   ],
   "source": [
    "x = '12345'\n",
    "for y in x:\n",
    "    if x.find('1') != -1:\n",
    "        print(1)"
   ]
  },
  {
   "cell_type": "code",
   "execution_count": null,
   "id": "197d68ef",
   "metadata": {},
   "outputs": [],
   "source": [
    "ttk.Label(f, text='Calculator').grid(column=1, row=0, columnspan=2)"
   ]
  },
  {
   "cell_type": "code",
   "execution_count": 80,
   "id": "f582f9f0",
   "metadata": {},
   "outputs": [
    {
     "name": "stdout",
     "output_type": "stream",
     "text": [
      "[1, 2, 3]\n"
     ]
    }
   ],
   "source": [
    "\n",
    "l = [1,2,3]\n",
    "print(str(l))"
   ]
  }
 ],
 "metadata": {
  "kernelspec": {
   "display_name": "Python 3",
   "language": "python",
   "name": "python3"
  },
  "language_info": {
   "codemirror_mode": {
    "name": "ipython",
    "version": 3
   },
   "file_extension": ".py",
   "mimetype": "text/x-python",
   "name": "python",
   "nbconvert_exporter": "python",
   "pygments_lexer": "ipython3",
   "version": "3.13.3"
  }
 },
 "nbformat": 4,
 "nbformat_minor": 5
}
